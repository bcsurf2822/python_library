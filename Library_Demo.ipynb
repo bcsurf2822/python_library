{
 "cells": [
  {
   "cell_type": "markdown",
   "id": "2070f8e6-4099-408b-a5b6-eed5a31457c6",
   "metadata": {},
   "source": [
    "#  Python Library\n",
    "\n",
    "**Benjamin Corbett**  \n",
    "April 23, 2025"
   ]
  },
  {
   "cell_type": "markdown",
   "id": "55cabd68-44f7-476d-b748-e8c65f3ce406",
   "metadata": {},
   "source": [
    "## Import Libraries"
   ]
  },
  {
   "cell_type": "code",
   "execution_count": 1,
   "id": "85e435a2-8747-4fd6-a048-a22e24fce549",
   "metadata": {},
   "outputs": [
    {
     "data": {
      "text/plain": [
       "True"
      ]
     },
     "execution_count": 1,
     "metadata": {},
     "output_type": "execute_result"
    }
   ],
   "source": [
    "from dotenv import load_dotenv\n",
    "import os\n",
    "import requests\n",
    "from bs4 import BeautifulSoup\n",
    "from abc import ABC, abstractmethod\n",
    "import smtplib\n",
    "import json\n",
    "from itertools import zip_longest\n",
    "from typing import List\n",
    "import re\n",
    "from deep_translator import GoogleTranslator\n",
    "\n",
    "load_dotenv() "
   ]
  },
  {
   "cell_type": "markdown",
   "id": "15f3b2a2-09c5-48df-a415-e2e641bdbb62",
   "metadata": {},
   "source": [
    "## Abstract Base Class"
   ]
  },
  {
   "cell_type": "code",
   "execution_count": 4,
   "id": "f68aeef6-d9b2-4ed8-bfcf-42cafe9bc69e",
   "metadata": {},
   "outputs": [],
   "source": [
    "class Periodical(ABC):\n",
    "    def __init__(self, title, author, available=True):\n",
    "        self.title = title\n",
    "        self.author = author\n",
    "        self.available = available\n",
    "        \n",
    "    @abstractmethod\n",
    "    def display_info(self):\n",
    "        pass"
   ]
  },
  {
   "cell_type": "markdown",
   "id": "fdba0079-8cb3-4ec4-865d-92c40b454725",
   "metadata": {},
   "source": [
    "## Russian Book Class"
   ]
  },
  {
   "cell_type": "code",
   "execution_count": 7,
   "id": "3286d081-f052-4f13-87fe-fea2ed1e5710",
   "metadata": {},
   "outputs": [],
   "source": [
    "class RussianBook:\n",
    "    def __init__(self, russian_title, russian_author):\n",
    "        self.russian_title = russian_title\n",
    "        self.russian_author = russian_author\n",
    "\n",
    "    def get_info(self):\n",
    "        return f\"{self.russian_title} by {self.russian_author}\""
   ]
  },
  {
   "cell_type": "markdown",
   "id": "fc49ef04-09d7-4d38-8cc8-22f6c52002df",
   "metadata": {},
   "source": [
    "## Adapter Class"
   ]
  },
  {
   "cell_type": "code",
   "execution_count": 10,
   "id": "27c2024b-374b-4daa-8724-1570481c3dca",
   "metadata": {},
   "outputs": [],
   "source": [
    "class RussianTranslatorAdapter(Periodical):\n",
    "    def __init__(self, russian_book: RussianBook):\n",
    "        \n",
    "        translator = GoogleTranslator(source='ru', target='en')\n",
    "        \n",
    "        self.title = translator.translate(russian_book.russian_title)\n",
    "        self.author = translator.translate(russian_book.russian_author)\n",
    "        self.available = True\n",
    "        self._original = russian_book\n",
    "\n",
    "    def display_info(self):\n",
    "        print(f\"[Book - Translated] '{self.title}' by {self.author}\")\n",
    "        print(f\"(Original: '{self._original.russian_title}' by {self._original.russian_author})\")\n",
    "\n",
    "    def display_info(self):\n",
    "        print(f\"[Book - Translated] '{self.title}' by {self.author}\")\n",
    "        print(f\"(Original: '{self._original.russian_title}' by {self._original.russian_author}) \\n\")"
   ]
  },
  {
   "cell_type": "markdown",
   "id": "dda4c05b-6a58-4089-af6b-a296d4e06702",
   "metadata": {},
   "source": [
    "## Subclasses"
   ]
  },
  {
   "cell_type": "code",
   "execution_count": 13,
   "id": "ab3fb12f-73a0-49c2-a18a-9ab85ae1d77b",
   "metadata": {},
   "outputs": [],
   "source": [
    "class Book(Periodical):\n",
    "       \n",
    "    def display_info(self):\n",
    "        print(f\"[Book] '{self.title} by {self.author}'\")\n",
    "        print(f\"Available: {'Yes' if self.available else 'No'}\")"
   ]
  },
  {
   "cell_type": "code",
   "execution_count": 15,
   "id": "af960ab2-88ae-4c0b-88ee-ccb3f9e626ee",
   "metadata": {},
   "outputs": [],
   "source": [
    "class Newspaper(Periodical):\n",
    "    def __init__(self, title, author, available=True, publish_date=str):\n",
    "\n",
    "        if not re.match(r\"^(0[1-9]|1[0-2])/([0-9]{4})$\", publish_date):\n",
    "            raise ValueError(\"Date must be in MM/YYYY format\")\n",
    "            \n",
    "        super().__init__(title, author, available)\n",
    "        self.publish_date = publish_date\n",
    "        \n",
    "    def display_info(self):\n",
    "        print(f\"[Newspaper] '{self.title} by {self.author} Published: {self.publish_date}'\")\n",
    "        print(f\"Available: {'Yes' if self.available else 'No'}\")"
   ]
  },
  {
   "cell_type": "code",
   "execution_count": 17,
   "id": "ed092251-b535-44b0-881f-9525d3c84210",
   "metadata": {},
   "outputs": [],
   "source": [
    "class Magazine(Periodical):\n",
    "    def display_info(self):\n",
    "        print(f\"[Magazine] '{self.title} by {self.author}'\")\n",
    "        print(f\"Available: {'Yes' if self.available else 'No'}\")"
   ]
  },
  {
   "cell_type": "markdown",
   "id": "cfcf7762-33ff-427e-81fd-74c921a8f3ce",
   "metadata": {},
   "source": [
    "## Library Class\n"
   ]
  },
  {
   "cell_type": "code",
   "execution_count": 20,
   "id": "c7ab83a6-3d18-42aa-bb8a-252982280735",
   "metadata": {},
   "outputs": [],
   "source": [
    "class Library:\n",
    "    def __init__(self):\n",
    "        self.books: List[Periodical] = []\n",
    "\n",
    "    def add_book(self, book: Periodical):\n",
    "        self.books.append(book)\n",
    "        print(f\"Added {book.title} by {book.author} to library\")\n",
    "\n",
    "    def remove_book(self, title: str):\n",
    "        for book in self.books:\n",
    "            if book.title == title:\n",
    "                self.books.remove(book)\n",
    "                print(f\"Removed {book.title} from library\")\n",
    "                return\n",
    "        print(\"Not found.\")\n",
    "\n",
    "    def list_all(self) -> str:\n",
    "        if not self.books:\n",
    "            return \"Your library is empty.\"\n",
    "    \n",
    "        result = [\"Library:\"]\n",
    "        for book in self.books:\n",
    "            periodical_type = book.__class__.__name__\n",
    "            result.append(f\"[{periodical_type}] Title: {book.title}\")\n",
    "            result.append(f\"Author: {book.author}\")\n",
    "            \n",
    "            if hasattr(book, \"publish_date\"):\n",
    "                result.append(f\"Published: {book.publish_date}\")\n",
    "            \n",
    "            result.append(f\"Available: {'Yes' if book.available else 'No'}\")\n",
    "            result.append(\"\")  \n",
    "        return '\\n'.join(result)\n",
    "\n",
    "    def remove_all_books(self):\n",
    "        count = len(self.books)\n",
    "        self.books.clear()\n",
    "        print(f\"Removed all {count} books from library\")\n",
    "\n",
    "    def to_json(self) -> str:\n",
    "        \"\"\"Returns the library as a JSON string\"\"\"\n",
    "        data = [\n",
    "            {\n",
    "                \"Title\": book.title,\n",
    "                \"Author\": book.author,\n",
    "                \"Available\": \"Yes\" if book.available else \"No\"\n",
    "            }\n",
    "            for book in self.books\n",
    "        ]\n",
    "        return json.dumps(data, indent=2)  \n",
    "       "
   ]
  },
  {
   "cell_type": "markdown",
   "id": "5a6548b7-ebff-43b6-b766-fd25935847b9",
   "metadata": {},
   "source": [
    "## Book Scraping"
   ]
  },
  {
   "cell_type": "code",
   "execution_count": 23,
   "id": "3951e8c5-30e6-4a08-a7eb-c8c6b47a8939",
   "metadata": {},
   "outputs": [],
   "source": [
    "url = \"https://books.toscrape.com/\"\n",
    "response = requests.get(url)\n",
    "soup = BeautifulSoup(response.text, 'html.parser')"
   ]
  },
  {
   "cell_type": "code",
   "execution_count": 25,
   "id": "df126021-8188-4370-9ad2-280ec873f07a",
   "metadata": {},
   "outputs": [],
   "source": [
    "category_elements = soup.select('.side_categories ul li ul li a')"
   ]
  },
  {
   "cell_type": "code",
   "execution_count": 27,
   "id": "e46d8e86-cea0-4493-b22f-c0805c115df5",
   "metadata": {},
   "outputs": [],
   "source": [
    "categories = []"
   ]
  },
  {
   "cell_type": "code",
   "execution_count": 29,
   "id": "3b055d12-b788-49c7-ab2c-1b6b4ad2ad29",
   "metadata": {},
   "outputs": [],
   "source": [
    "for cat in category_elements:\n",
    "    name = cat.get_text(strip=True)\n",
    "    link = url + cat['href']\n",
    "    categories.append({\"name\": name, \"url\": link})"
   ]
  },
  {
   "cell_type": "markdown",
   "id": "b719fa9f-81f2-497a-81e8-869583fb6686",
   "metadata": {},
   "source": [
    "## Categories"
   ]
  },
  {
   "cell_type": "code",
   "execution_count": 32,
   "id": "aa960730-c586-4da8-a098-344daddcf6d2",
   "metadata": {},
   "outputs": [
    {
     "name": "stdout",
     "output_type": "stream",
     "text": [
      "1. Travel                           26. Autobiography\n",
      "2. Mystery                          27. Parenting\n",
      "3. Historical Fiction               28. Adult Fiction\n",
      "4. Sequential Art                   29. Humor\n",
      "5. Classics                         30. Horror\n",
      "6. Philosophy                       31. History\n",
      "7. Romance                          32. Food and Drink\n",
      "8. Womens Fiction                   33. Christian Fiction\n",
      "9. Fiction                          34. Business\n",
      "10. Childrens                       35. Biography\n",
      "11. Religion                        36. Thriller\n",
      "12. Nonfiction                      37. Contemporary\n",
      "13. Music                           38. Spirituality\n",
      "14. Default                         39. Academic\n",
      "15. Science Fiction                 40. Self Help\n",
      "16. Sports and Games                41. Historical\n",
      "17. Add a comment                   42. Christian\n",
      "18. Fantasy                         43. Suspense\n",
      "19. New Adult                       44. Short Stories\n",
      "20. Young Adult                     45. Novels\n",
      "21. Science                         46. Health\n",
      "22. Poetry                          47. Politics\n",
      "23. Paranormal                      48. Cultural\n",
      "24. Art                             49. Erotica\n",
      "25. Psychology                      50. Crime\n"
     ]
    }
   ],
   "source": [
    "half = len(categories) // 2 + len(categories) % 2\n",
    "left = categories[:half]\n",
    "right = categories[half:]\n",
    "for i, (left_cat, right_cat) in enumerate(zip_longest(left, right), start=1):\n",
    "    left_str = f\"{i}. {left_cat['name']}\" if left_cat else \"\"\n",
    "    right_str = f\"{i + half}. {right_cat['name']}\" if right_cat else \"\"\n",
    "    print(f\"{left_str:<35} {right_str}\")"
   ]
  },
  {
   "cell_type": "markdown",
   "id": "1a8e4da7-af75-4786-b0a1-ccf9cf7bd0d5",
   "metadata": {},
   "source": [
    "## User Selects Category From List"
   ]
  },
  {
   "cell_type": "code",
   "execution_count": 35,
   "id": "16b48acb-ac7f-4d8b-bab5-e9a835390e5f",
   "metadata": {},
   "outputs": [
    {
     "name": "stdin",
     "output_type": "stream",
     "text": [
      "\n",
      "Enter the number 1 through 50 to select category you'd like to explore:  3\n"
     ]
    }
   ],
   "source": [
    "while True:\n",
    "    try:\n",
    "        choice = int(input(f\"\\nEnter the number 1 through {len(categories)} to select category you'd like to explore: \"))\n",
    "        if 1 <= choice <= len(categories):\n",
    "            selected_category = categories[choice - 1]\n",
    "            break\n",
    "        else:\n",
    "            print(f\"Please enter a number between 1 and {len(categories)}.\")\n",
    "    except ValueError:\n",
    "        print(\"Invalid input. Please enter a number.\")\n"
   ]
  },
  {
   "cell_type": "markdown",
   "id": "71ce1cf6-9cc3-48f0-936e-ff15a960ba4f",
   "metadata": {},
   "source": [
    "## Scrape Books based on Category Selection\n",
    "\n",
    "Scrape books and collect book titles"
   ]
  },
  {
   "cell_type": "code",
   "execution_count": 38,
   "id": "3c63860b-c5b4-4fb8-8ade-6bf5afee9691",
   "metadata": {},
   "outputs": [],
   "source": [
    "cat_response = requests.get(selected_category[\"url\"])\n",
    "cat_soup = BeautifulSoup(cat_response.text, 'html.parser')\n",
    "\n",
    "book_elements = cat_soup.select('article.product_pod')\n",
    "titles = set() \n",
    "books = []\n",
    "\n",
    "for book in book_elements:\n",
    "    title = book.h3.a['title']\n",
    "    if title not in titles:\n",
    "        titles.add(title)\n",
    "        books.append({\"title\": title})"
   ]
  },
  {
   "cell_type": "code",
   "execution_count": 40,
   "id": "3e92962b-33b2-4c45-aa5d-d84b54d9cfd3",
   "metadata": {},
   "outputs": [
    {
     "name": "stdout",
     "output_type": "stream",
     "text": [
      "1. Tipping the Velvet\n",
      "2. Forever and Forever: The Courtship of Henry Longfellow and Fanny Appleton\n",
      "3. A Flight of Arrows (The Pathfinders #2)\n",
      "4. The House by the Lake\n",
      "5. Mrs. Houdini\n",
      "6. The Marriage of Opposites\n",
      "7. Glory over Everything: Beyond The Kitchen House\n",
      "8. Love, Lies and Spies\n",
      "9. A Paris Apartment\n",
      "10. Lilac Girls\n",
      "11. The Constant Princess (The Tudor Court #1)\n",
      "12. The Invention of Wings\n",
      "13. World Without End (The Pillars of the Earth #2)\n",
      "14. The Passion of Dolssa\n",
      "15. Girl With a Pearl Earring\n",
      "16. Voyager (Outlander #3)\n",
      "17. The Red Tent\n",
      "18. The Last Painting of Sara de Vos\n",
      "19. The Guernsey Literary and Potato Peel Pie Society\n",
      "20. Girl in the Blue Coat\n"
     ]
    }
   ],
   "source": [
    "\n",
    "for i, book in enumerate(books, start=1):\n",
    "    print(f\"{i}. {book['title']}\")"
   ]
  },
  {
   "cell_type": "markdown",
   "id": "066e8fae-2d2b-4557-a0f0-2dd8894c4e4e",
   "metadata": {},
   "source": [
    "## Client Adding To Their Library "
   ]
  },
  {
   "cell_type": "code",
   "execution_count": 43,
   "id": "fb7c46dc-6e1e-4fe2-aa32-d1e4f087f775",
   "metadata": {},
   "outputs": [],
   "source": [
    "my_library = Library()"
   ]
  },
  {
   "cell_type": "code",
   "execution_count": 45,
   "id": "f4dfbc01-283b-4696-9506-05880e1825e6",
   "metadata": {},
   "outputs": [
    {
     "name": "stdin",
     "output_type": "stream",
     "text": [
      "\n",
      "Enter the corresponding number of the book you'd like to add:  30\n"
     ]
    },
    {
     "name": "stdout",
     "output_type": "stream",
     "text": [
      "Please enter a number between 1 and 20.\n"
     ]
    },
    {
     "name": "stdin",
     "output_type": "stream",
     "text": [
      "\n",
      "Enter the corresponding number of the book you'd like to add:  20\n"
     ]
    }
   ],
   "source": [
    "while True:\n",
    "    user_input = input(\"\\nEnter the corresponding number of the book you'd like to add: \")\n",
    "    if user_input.isdigit():\n",
    "        selection = int(user_input)\n",
    "        if 1 <= selection <= len(books): \n",
    "            break\n",
    "        else:\n",
    "            print(f\"Please enter a number between 1 and {len(books)}.\")\n",
    "    else:\n",
    "        print(\"Invalid input. Please enter a number.\")\n",
    "\n",
    "selected_title = books[selection - 1][\"title\"]"
   ]
  },
  {
   "cell_type": "code",
   "execution_count": 47,
   "id": "af39b434-d0ba-4a7a-aaa7-61a13cdf503a",
   "metadata": {},
   "outputs": [
    {
     "name": "stdin",
     "output_type": "stream",
     "text": [
      "Who is the author of 'Girl in the Blue Coat'?  Jim Sm\n"
     ]
    }
   ],
   "source": [
    "author_input = input(f\"Who is the author of '{selected_title}'? \")"
   ]
  },
  {
   "cell_type": "code",
   "execution_count": 49,
   "id": "8125c789-9148-4ecb-bc75-9ed8090354d1",
   "metadata": {},
   "outputs": [
    {
     "name": "stdout",
     "output_type": "stream",
     "text": [
      "Added Girl in the Blue Coat by Jim Sm to library\n"
     ]
    }
   ],
   "source": [
    "new_book = Book(title=selected_title, author=author_input)\n",
    "my_library.add_book(new_book)"
   ]
  },
  {
   "cell_type": "code",
   "execution_count": 51,
   "id": "d54a5590-9f60-4c0e-a67d-46c38287d060",
   "metadata": {},
   "outputs": [
    {
     "name": "stdout",
     "output_type": "stream",
     "text": [
      "[\n",
      "  {\n",
      "    \"Title\": \"Girl in the Blue Coat\",\n",
      "    \"Author\": \"Jim Sm\",\n",
      "    \"Available\": \"Yes\"\n",
      "  }\n",
      "]\n"
     ]
    }
   ],
   "source": [
    "email_json = my_library.to_json()\n",
    "print(email_json)"
   ]
  },
  {
   "cell_type": "markdown",
   "id": "67a015e4-36b8-447f-b232-723b84fba2b1",
   "metadata": {},
   "source": [
    "## Log In To Gmail and send the secret subject line to add the book to the library."
   ]
  },
  {
   "cell_type": "code",
   "execution_count": 54,
   "id": "1e9e9f90-550d-45f7-8519-f69558e76745",
   "metadata": {},
   "outputs": [],
   "source": [
    "smtp_object = smtplib.SMTP('smtp.gmail.com',587)"
   ]
  },
  {
   "cell_type": "code",
   "execution_count": 55,
   "id": "a36f20a8-2593-4342-997e-f11cb76ce1ea",
   "metadata": {},
   "outputs": [
    {
     "data": {
      "text/plain": [
       "(250,\n",
       " b'smtp.gmail.com at your service, [71.59.85.84]\\nSIZE 35882577\\n8BITMIME\\nSTARTTLS\\nENHANCEDSTATUSCODES\\nPIPELINING\\nCHUNKING\\nSMTPUTF8')"
      ]
     },
     "execution_count": 55,
     "metadata": {},
     "output_type": "execute_result"
    }
   ],
   "source": [
    "smtp_object.ehlo()"
   ]
  },
  {
   "cell_type": "code",
   "execution_count": 56,
   "id": "dcc637fb-98ce-4be2-b939-cc8aa29380d6",
   "metadata": {},
   "outputs": [
    {
     "data": {
      "text/plain": [
       "(220, b'2.0.0 Ready to start TLS')"
      ]
     },
     "execution_count": 56,
     "metadata": {},
     "output_type": "execute_result"
    }
   ],
   "source": [
    "smtp_object.starttls()"
   ]
  },
  {
   "cell_type": "markdown",
   "id": "316c4c04-0bb1-44fe-92e9-8fa6849882b0",
   "metadata": {},
   "source": [
    "### Enter You Email and Generated App Password"
   ]
  },
  {
   "cell_type": "code",
   "execution_count": 58,
   "id": "ab671de3-4ab3-4ad6-a6d0-d2b85c7f6c60",
   "metadata": {},
   "outputs": [
    {
     "data": {
      "text/plain": [
       "(235, b'2.7.0 Accepted')"
      ]
     },
     "execution_count": 58,
     "metadata": {},
     "output_type": "execute_result"
    }
   ],
   "source": [
    "email = os.getenv(\"GOOGLE_EMAIL\")\n",
    "password = os.getenv(\"GOOGLE_APP_PASSWORD\")\n",
    "smtp_object.login(email,password)"
   ]
  },
  {
   "cell_type": "code",
   "execution_count": 63,
   "id": "ff003f25-f399-40ee-83d5-6d31e7393be6",
   "metadata": {},
   "outputs": [
    {
     "name": "stdout",
     "output_type": "stream",
     "text": [
      "Email sent successfully!\n"
     ]
    }
   ],
   "source": [
    "from_address = email\n",
    "to_address = os.getenv(\"EMAIL_TO\")\n",
    "subject = \"libadd\"\n",
    "message = f\"Subject: {subject}\\n\\n{email_json}\"\n",
    "\n",
    "\n",
    "result = smtp_object.sendmail(from_address, to_address, message)\n",
    "\n",
    "if result == {}:\n",
    "    print(\"Email sent successfully!\")\n",
    "else:\n",
    "    print(\"Failed to send email to the following recipient(s):\")\n",
    "    print(result)"
   ]
  },
  {
   "cell_type": "markdown",
   "id": "aedddf91-dcd0-4c0e-80a7-e22a3e83b68c",
   "metadata": {},
   "source": [
    "## Working with the Other Classes"
   ]
  },
  {
   "cell_type": "code",
   "execution_count": 66,
   "id": "8081c782-c339-41f0-8206-a81f0f20b351",
   "metadata": {},
   "outputs": [],
   "source": [
    "lib = Library()"
   ]
  },
  {
   "cell_type": "code",
   "execution_count": 68,
   "id": "f8b32aaa-3170-42f0-a03f-52172adfc6f0",
   "metadata": {},
   "outputs": [
    {
     "name": "stdout",
     "output_type": "stream",
     "text": [
      "Added Clean Code by Robert C. Martin to library\n",
      "Added The Pragmatic Programmer by Andrew Hunt and David Thomas to library\n",
      "Added Design Patterns: Elements of Reusable Object-Oriented Software by Erich Gamma, Richard Helm, Ralph Johnson, John Vlissides to library\n",
      "Added Refactoring by Martin Fowler to library\n",
      "Added You Don't Know JS by Kyle Simpson to library\n",
      "Added Surf Today by Kelly Slater to library\n",
      "Added National Geographic by Various Authors to library\n",
      "Added The Surfer's Journal by Scott Hulet to library\n",
      "Added The Times by Editorial Board to library\n",
      "Added The New York Times by Dean Baquet to library\n"
     ]
    }
   ],
   "source": [
    "lib.add_book(Book(\"Clean Code\", \"Robert C. Martin\"))\n",
    "lib.add_book(Book(\"The Pragmatic Programmer\", \"Andrew Hunt and David Thomas\"))\n",
    "lib.add_book(Book(\"Design Patterns: Elements of Reusable Object-Oriented Software\", \"Erich Gamma, Richard Helm, Ralph Johnson, John Vlissides\"))\n",
    "lib.add_book(Book(\"Refactoring\", \"Martin Fowler\"))\n",
    "lib.add_book(Book(\"You Don't Know JS\", \"Kyle Simpson\"))\n",
    "lib.add_book(Magazine(\"Surf Today\", \"Kelly Slater\", available=False))\n",
    "lib.add_book(Magazine(\"National Geographic\", \"Various Authors\"))\n",
    "lib.add_book(Magazine(\"The Surfer's Journal\", \"Scott Hulet\"))\n",
    "lib.add_book(Newspaper(\"The Times\", \"Editorial Board\", publish_date=\"03/2025\"))\n",
    "lib.add_book(Newspaper(\"The New York Times\", \"Dean Baquet\", publish_date=\"04/2025\"))"
   ]
  },
  {
   "cell_type": "code",
   "execution_count": 70,
   "id": "53de8736-188f-4437-8fc1-9a77df6a2e75",
   "metadata": {},
   "outputs": [
    {
     "name": "stdout",
     "output_type": "stream",
     "text": [
      "Library:\n",
      "[Book] Title: Clean Code\n",
      "Author: Robert C. Martin\n",
      "Available: Yes\n",
      "\n",
      "[Book] Title: The Pragmatic Programmer\n",
      "Author: Andrew Hunt and David Thomas\n",
      "Available: Yes\n",
      "\n",
      "[Book] Title: Design Patterns: Elements of Reusable Object-Oriented Software\n",
      "Author: Erich Gamma, Richard Helm, Ralph Johnson, John Vlissides\n",
      "Available: Yes\n",
      "\n",
      "[Book] Title: Refactoring\n",
      "Author: Martin Fowler\n",
      "Available: Yes\n",
      "\n",
      "[Book] Title: You Don't Know JS\n",
      "Author: Kyle Simpson\n",
      "Available: Yes\n",
      "\n",
      "[Magazine] Title: Surf Today\n",
      "Author: Kelly Slater\n",
      "Available: No\n",
      "\n",
      "[Magazine] Title: National Geographic\n",
      "Author: Various Authors\n",
      "Available: Yes\n",
      "\n",
      "[Magazine] Title: The Surfer's Journal\n",
      "Author: Scott Hulet\n",
      "Available: Yes\n",
      "\n",
      "[Newspaper] Title: The Times\n",
      "Author: Editorial Board\n",
      "Published: 03/2025\n",
      "Available: Yes\n",
      "\n",
      "[Newspaper] Title: The New York Times\n",
      "Author: Dean Baquet\n",
      "Published: 04/2025\n",
      "Available: Yes\n",
      "\n"
     ]
    }
   ],
   "source": [
    "print(lib.list_all())"
   ]
  },
  {
   "cell_type": "markdown",
   "id": "08e94a9f-c85b-4b0c-9dd3-c8f26c425d27",
   "metadata": {},
   "source": [
    "## Russian Book To English"
   ]
  },
  {
   "cell_type": "code",
   "execution_count": 85,
   "id": "a571c512-fbfc-49cc-a323-b420b80e5692",
   "metadata": {},
   "outputs": [
    {
     "name": "stdout",
     "output_type": "stream",
     "text": [
      "[Book - Translated] 'Crime and punishment' by Fedor Dostoevsky\n",
      "(Original: 'Преступление и наказание' by Фёдор Достоевский) \n",
      "\n",
      "Added Crime and punishment by Fedor Dostoevsky to library\n",
      "[Book - Translated] 'War and peace' by Leo Tolstoy\n",
      "(Original: 'Война и мир' by Лев Толстой) \n",
      "\n",
      "Added War and peace by Leo Tolstoy to library\n",
      "[Book - Translated] 'Master and Margarita' by Mikhail Bulgakov\n",
      "(Original: 'Мастер и Маргарита' by Михаил Булгаков) \n",
      "\n",
      "Added Master and Margarita by Mikhail Bulgakov to library\n"
     ]
    }
   ],
   "source": [
    "russian_book1 = RussianBook(\"Преступление и наказание\", \"Фёдор Достоевский\")\n",
    "russian_book2 = RussianBook(\"Война и мир\", \"Лев Толстой\")\n",
    "russian_book3 = RussianBook(\"Мастер и Маргарита\", \"Михаил Булгаков\")\n",
    "\n",
    "def translated_book(book: RussianBook) -> RussianTranslatorAdapter:\n",
    "    translated = RussianTranslatorAdapter(book)\n",
    "    translated.display_info()\n",
    "    return translated\n",
    "\n",
    "lib.add_book(translated_book(russian_book1))\n",
    "lib.add_book(translated_book(russian_book2))\n",
    "lib.add_book(translated_book(russian_book3))"
   ]
  },
  {
   "cell_type": "code",
   "execution_count": 87,
   "id": "40809d94-b311-420e-a4b4-544266d4ed54",
   "metadata": {},
   "outputs": [
    {
     "name": "stdout",
     "output_type": "stream",
     "text": [
      "Not found.\n"
     ]
    },
    {
     "data": {
      "text/plain": [
       "'Library:\\n[RussianTranslatorAdapter] Title: Crime and punishment\\nAuthor: Fedor Dostoevsky\\nAvailable: Yes\\n\\n[RussianTranslatorAdapter] Title: War and peace\\nAuthor: Leo Tolstoy\\nAvailable: Yes\\n\\n[RussianTranslatorAdapter] Title: Master and Margarita\\nAuthor: Mikhail Bulgakov\\nAvailable: Yes\\n'"
      ]
     },
     "execution_count": 87,
     "metadata": {},
     "output_type": "execute_result"
    }
   ],
   "source": [
    "lib.remove_book(\"You Don't Know JS\")\n",
    "lib.list_all()"
   ]
  },
  {
   "cell_type": "code",
   "execution_count": 89,
   "id": "f4df6275-83b3-463c-af12-88a660abd339",
   "metadata": {},
   "outputs": [
    {
     "name": "stdout",
     "output_type": "stream",
     "text": [
      "3\n"
     ]
    }
   ],
   "source": [
    "print(f\"{len(lib.books)}\")"
   ]
  },
  {
   "cell_type": "code",
   "execution_count": 91,
   "id": "003d3942-f764-4360-931b-af6f696b1ff3",
   "metadata": {},
   "outputs": [
    {
     "name": "stdout",
     "output_type": "stream",
     "text": [
      "Removed all 3 books from library\n"
     ]
    }
   ],
   "source": [
    "lib.remove_all_books()"
   ]
  },
  {
   "cell_type": "code",
   "execution_count": 93,
   "id": "428d1812-d183-4be8-b0c3-9d02d95fa46c",
   "metadata": {},
   "outputs": [
    {
     "data": {
      "text/plain": [
       "'Your library is empty.'"
      ]
     },
     "execution_count": 93,
     "metadata": {},
     "output_type": "execute_result"
    }
   ],
   "source": [
    "lib.list_all()"
   ]
  },
  {
   "cell_type": "code",
   "execution_count": null,
   "id": "f7733634-9eed-4ed6-9701-29e0d03ab7e6",
   "metadata": {},
   "outputs": [],
   "source": []
  }
 ],
 "metadata": {
  "kernelspec": {
   "display_name": "Python [conda env:base] *",
   "language": "python",
   "name": "conda-base-py"
  },
  "language_info": {
   "codemirror_mode": {
    "name": "ipython",
    "version": 3
   },
   "file_extension": ".py",
   "mimetype": "text/x-python",
   "name": "python",
   "nbconvert_exporter": "python",
   "pygments_lexer": "ipython3",
   "version": "3.12.7"
  }
 },
 "nbformat": 4,
 "nbformat_minor": 5
}
