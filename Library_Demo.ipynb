{
 "cells": [
  {
   "cell_type": "markdown",
   "id": "2070f8e6-4099-408b-a5b6-eed5a31457c6",
   "metadata": {},
   "source": [
    "#  Controlled SharePoint Library Hacker \n",
    "\n",
    "**Benjamin Corbett**  \n",
    "April 23, 2025"
   ]
  },
  {
   "cell_type": "markdown",
   "id": "55cabd68-44f7-476d-b748-e8c65f3ce406",
   "metadata": {},
   "source": [
    "## Import Libraries"
   ]
  },
  {
   "cell_type": "code",
   "execution_count": 1,
   "id": "85e435a2-8747-4fd6-a048-a22e24fce549",
   "metadata": {},
   "outputs": [
    {
     "data": {
      "text/plain": [
       "True"
      ]
     },
     "execution_count": 1,
     "metadata": {},
     "output_type": "execute_result"
    }
   ],
   "source": [
    "from dotenv import load_dotenv\n",
    "import os\n",
    "import requests\n",
    "from bs4 import BeautifulSoup\n",
    "from abc import ABC, abstractmethod\n",
    "import smtplib\n",
    "import json\n",
    "from itertools import zip_longest\n",
    "from typing import List\n",
    "\n",
    "\n",
    "load_dotenv() "
   ]
  },
  {
   "cell_type": "markdown",
   "id": "15f3b2a2-09c5-48df-a415-e2e641bdbb62",
   "metadata": {},
   "source": [
    "## Abstract Base Class"
   ]
  },
  {
   "cell_type": "code",
   "execution_count": 4,
   "id": "f68aeef6-d9b2-4ed8-bfcf-42cafe9bc69e",
   "metadata": {},
   "outputs": [],
   "source": [
    "class Periodical(ABC):\n",
    "    def __init__(self, title, author, available=True):\n",
    "        self.title = title\n",
    "        self.author = author\n",
    "        self.available = available\n",
    "        \n",
    "    @abstractmethod\n",
    "    def display_info(self):\n",
    "        pass"
   ]
  },
  {
   "cell_type": "markdown",
   "id": "dda4c05b-6a58-4089-af6b-a296d4e06702",
   "metadata": {},
   "source": [
    "## Subclasses"
   ]
  },
  {
   "cell_type": "code",
   "execution_count": 7,
   "id": "ab3fb12f-73a0-49c2-a18a-9ab85ae1d77b",
   "metadata": {},
   "outputs": [],
   "source": [
    "class Book(Periodical):\n",
    "       \n",
    "    def display_info(self):\n",
    "        print(f\"[Book] '{self.title} by {self.author}'\")\n",
    "        print(f\"Available: {'Yes' if self.available else 'No'}\")"
   ]
  },
  {
   "cell_type": "code",
   "execution_count": 9,
   "id": "af960ab2-88ae-4c0b-88ee-ccb3f9e626ee",
   "metadata": {},
   "outputs": [],
   "source": [
    "class Newspaper(Periodical):\n",
    "    def display_info(self):\n",
    "        print(f\"[Newspaper] '{self.title} by {self.author}'\")\n",
    "        print(f\"Available: {'Yes' if self.available else 'No'}\")"
   ]
  },
  {
   "cell_type": "code",
   "execution_count": 11,
   "id": "ed092251-b535-44b0-881f-9525d3c84210",
   "metadata": {},
   "outputs": [],
   "source": [
    "class Magazine(Periodical):\n",
    "    def display_info(self):\n",
    "        print(f\"[Magazine] '{self.title} by {self.author}'\")\n",
    "        print(f\"Available: {'Yes' if self.available else 'No'}\")"
   ]
  },
  {
   "cell_type": "code",
   "execution_count": 13,
   "id": "c7ab83a6-3d18-42aa-bb8a-252982280735",
   "metadata": {},
   "outputs": [],
   "source": [
    "class Library:\n",
    "    def __init__(self):\n",
    "        self.books: List[Periodical] = []\n",
    "\n",
    "    def add_book(self, book: Periodical):\n",
    "        self.books.append(book)\n",
    "        print(f\"Added {book.title} to my library\")\n",
    "\n",
    "    def remove_book(self, title: str):\n",
    "        for book in self.books:\n",
    "            if book.title == title:\n",
    "                self.books.remove(book)\n",
    "                print(f\"Removed {book.title} from my library\")\n",
    "                return\n",
    "        print(\"Not found.\")\n",
    "\n",
    "    def list_all(self) -> str:\n",
    "        if not self.books:\n",
    "            return \"Your library is empty.\"\n",
    "\n",
    "        result = [\"📚 Library:\"]\n",
    "        for book in self.books:\n",
    "            periodical_type = book.__class__.__name__\n",
    "            result.append(f\"[{periodical_type}] Title: {book.title}\")\n",
    "            result.append(f\"Author: {book.author}\")\n",
    "            result.append(f\"Available: {'Yes' if book.available else 'No'}\")\n",
    "        return '\\n'.join(result)\n",
    "\n",
    "    def to_json(self) -> str:\n",
    "        \"\"\"Returns the library as a JSON string\"\"\"\n",
    "        data = [\n",
    "            {\n",
    "                \"Title\": book.title,\n",
    "                \"Author\": book.author,\n",
    "                \"Available\": \"Yes\" if book.available else \"No\"\n",
    "            }\n",
    "            for book in self.books\n",
    "        ]\n",
    "        return json.dumps(data, indent=2)  \n",
    "       "
   ]
  },
  {
   "cell_type": "markdown",
   "id": "5a6548b7-ebff-43b6-b766-fd25935847b9",
   "metadata": {},
   "source": [
    "## Book Scraping"
   ]
  },
  {
   "cell_type": "code",
   "execution_count": 16,
   "id": "3951e8c5-30e6-4a08-a7eb-c8c6b47a8939",
   "metadata": {},
   "outputs": [],
   "source": [
    "url = \"https://books.toscrape.com/\"\n",
    "response = requests.get(url)\n",
    "soup = BeautifulSoup(response.text, 'html.parser')"
   ]
  },
  {
   "cell_type": "code",
   "execution_count": 17,
   "id": "df126021-8188-4370-9ad2-280ec873f07a",
   "metadata": {},
   "outputs": [],
   "source": [
    "category_elements = soup.select('.side_categories ul li ul li a')"
   ]
  },
  {
   "cell_type": "code",
   "execution_count": 20,
   "id": "e46d8e86-cea0-4493-b22f-c0805c115df5",
   "metadata": {},
   "outputs": [],
   "source": [
    "categories = []"
   ]
  },
  {
   "cell_type": "code",
   "execution_count": 22,
   "id": "3b055d12-b788-49c7-ab2c-1b6b4ad2ad29",
   "metadata": {},
   "outputs": [],
   "source": [
    "for cat in category_elements:\n",
    "    name = cat.get_text(strip=True)\n",
    "    link = url + cat['href']\n",
    "    categories.append({\"name\": name, \"url\": link})"
   ]
  },
  {
   "cell_type": "markdown",
   "id": "b719fa9f-81f2-497a-81e8-869583fb6686",
   "metadata": {},
   "source": [
    "## Categories"
   ]
  },
  {
   "cell_type": "code",
   "execution_count": 25,
   "id": "aa960730-c586-4da8-a098-344daddcf6d2",
   "metadata": {},
   "outputs": [
    {
     "name": "stdout",
     "output_type": "stream",
     "text": [
      "1. Travel                           26. Autobiography\n",
      "2. Mystery                          27. Parenting\n",
      "3. Historical Fiction               28. Adult Fiction\n",
      "4. Sequential Art                   29. Humor\n",
      "5. Classics                         30. Horror\n",
      "6. Philosophy                       31. History\n",
      "7. Romance                          32. Food and Drink\n",
      "8. Womens Fiction                   33. Christian Fiction\n",
      "9. Fiction                          34. Business\n",
      "10. Childrens                       35. Biography\n",
      "11. Religion                        36. Thriller\n",
      "12. Nonfiction                      37. Contemporary\n",
      "13. Music                           38. Spirituality\n",
      "14. Default                         39. Academic\n",
      "15. Science Fiction                 40. Self Help\n",
      "16. Sports and Games                41. Historical\n",
      "17. Add a comment                   42. Christian\n",
      "18. Fantasy                         43. Suspense\n",
      "19. New Adult                       44. Short Stories\n",
      "20. Young Adult                     45. Novels\n",
      "21. Science                         46. Health\n",
      "22. Poetry                          47. Politics\n",
      "23. Paranormal                      48. Cultural\n",
      "24. Art                             49. Erotica\n",
      "25. Psychology                      50. Crime\n"
     ]
    }
   ],
   "source": [
    "half = len(categories) // 2 + len(categories) % 2\n",
    "left = categories[:half]\n",
    "right = categories[half:]\n",
    "for i, (left_cat, right_cat) in enumerate(zip_longest(left, right), start=1):\n",
    "    left_str = f\"{i}. {left_cat['name']}\" if left_cat else \"\"\n",
    "    right_str = f\"{i + half}. {right_cat['name']}\" if right_cat else \"\"\n",
    "    print(f\"{left_str:<35} {right_str}\")"
   ]
  },
  {
   "cell_type": "markdown",
   "id": "1a8e4da7-af75-4786-b0a1-ccf9cf7bd0d5",
   "metadata": {},
   "source": [
    "## User Selects Category From List"
   ]
  },
  {
   "cell_type": "code",
   "execution_count": 28,
   "id": "16b48acb-ac7f-4d8b-bab5-e9a835390e5f",
   "metadata": {},
   "outputs": [
    {
     "name": "stdin",
     "output_type": "stream",
     "text": [
      "\n",
      "Enter the number of the category you'd like to explore:  24\n"
     ]
    }
   ],
   "source": [
    "choice = int(input(\"\\nEnter the number of the category you'd like to explore: \"))\n",
    "selected_category = categories[choice - 1]\n"
   ]
  },
  {
   "cell_type": "markdown",
   "id": "71ce1cf6-9cc3-48f0-936e-ff15a960ba4f",
   "metadata": {},
   "source": [
    "## Scrape Books based on Category Selection\n",
    "\n",
    "Scrape books and collect book titles"
   ]
  },
  {
   "cell_type": "code",
   "execution_count": 31,
   "id": "3c63860b-c5b4-4fb8-8ade-6bf5afee9691",
   "metadata": {},
   "outputs": [],
   "source": [
    "cat_response = requests.get(selected_category[\"url\"])\n",
    "cat_soup = BeautifulSoup(cat_response.text, 'html.parser')\n",
    "\n",
    "book_elements = cat_soup.select('article.product_pod')\n",
    "titles = set() \n",
    "books = []\n",
    "\n",
    "for book in book_elements:\n",
    "    title = book.h3.a['title']\n",
    "    if title not in titles:\n",
    "        titles.add(title)\n",
    "        books.append({\"title\": title})"
   ]
  },
  {
   "cell_type": "code",
   "execution_count": 33,
   "id": "7222f37a-4bdc-45c9-a557-6026139f5f5a",
   "metadata": {},
   "outputs": [
    {
     "name": "stdout",
     "output_type": "stream",
     "text": [
      "\n",
      "Books in Art:\n",
      "1. Wall and Piece\n",
      "2. Feathers: Displays of Brilliant Plumage\n",
      "3. Art and Fear: Observations on the Perils (and Rewards) of Artmaking\n",
      "4. The New Drawing on the Right Side of the Brain\n",
      "5. History of Beauty\n",
      "6. The Story of Art\n",
      "7. The Art Book\n",
      "8. Ways of Seeing\n"
     ]
    }
   ],
   "source": [
    "print(f\"\\nBooks in {selected_category['name']}:\")\n",
    "for i, book in enumerate(books, start=1):\n",
    "    print(f\"{i}. {book['title']}\")"
   ]
  },
  {
   "cell_type": "markdown",
   "id": "066e8fae-2d2b-4557-a0f0-2dd8894c4e4e",
   "metadata": {},
   "source": [
    "## Client Adding To Their Library "
   ]
  },
  {
   "cell_type": "code",
   "execution_count": 36,
   "id": "fb7c46dc-6e1e-4fe2-aa32-d1e4f087f775",
   "metadata": {},
   "outputs": [],
   "source": [
    "my_library = Library()"
   ]
  },
  {
   "cell_type": "code",
   "execution_count": 38,
   "id": "f4dfbc01-283b-4696-9506-05880e1825e6",
   "metadata": {},
   "outputs": [
    {
     "name": "stdin",
     "output_type": "stream",
     "text": [
      "\n",
      "Enter the corresponding number of the book you'd like to add:  1\n"
     ]
    }
   ],
   "source": [
    "while True:\n",
    "    user_input = input(\"\\nEnter the corresponding number of the book you'd like to add: \")\n",
    "    if user_input.isdigit():\n",
    "        selection = int(user_input)\n",
    "        if 1 <= selection <= len(books):  # Optional: check it's within range\n",
    "            break\n",
    "        else:\n",
    "            print(f\"Please enter a number between 1 and {len(books)}.\")\n",
    "    else:\n",
    "        print(\"Invalid input. Please enter a number.\")\n",
    "\n",
    "selected_title = books[selection - 1][\"title\"]"
   ]
  },
  {
   "cell_type": "code",
   "execution_count": 40,
   "id": "af39b434-d0ba-4a7a-aaa7-61a13cdf503a",
   "metadata": {},
   "outputs": [
    {
     "name": "stdin",
     "output_type": "stream",
     "text": [
      "Who is the author of 'Wall and Piece'?  Jim Shmidt\n"
     ]
    }
   ],
   "source": [
    "author_input = input(f\"Who is the author of '{selected_title}'? \")"
   ]
  },
  {
   "cell_type": "code",
   "execution_count": 42,
   "id": "8125c789-9148-4ecb-bc75-9ed8090354d1",
   "metadata": {},
   "outputs": [
    {
     "name": "stdout",
     "output_type": "stream",
     "text": [
      "Added Wall and Piece to my library\n"
     ]
    }
   ],
   "source": [
    "new_book = Book(title=selected_title, author=author_input)\n",
    "my_library.add_book(new_book)"
   ]
  },
  {
   "cell_type": "code",
   "execution_count": 44,
   "id": "d54a5590-9f60-4c0e-a67d-46c38287d060",
   "metadata": {},
   "outputs": [
    {
     "name": "stdout",
     "output_type": "stream",
     "text": [
      "[\n",
      "  {\n",
      "    \"Title\": \"Wall and Piece\",\n",
      "    \"Author\": \"Jim Shmidt\",\n",
      "    \"Available\": \"Yes\"\n",
      "  }\n",
      "]\n"
     ]
    }
   ],
   "source": [
    "email_json = my_library.to_json()\n",
    "print(email_json)"
   ]
  },
  {
   "cell_type": "markdown",
   "id": "67a015e4-36b8-447f-b232-723b84fba2b1",
   "metadata": {},
   "source": [
    "## Log In To Gmail and send the secret subject line to add the book to the library."
   ]
  },
  {
   "cell_type": "code",
   "execution_count": 47,
   "id": "1e9e9f90-550d-45f7-8519-f69558e76745",
   "metadata": {},
   "outputs": [],
   "source": [
    "smtp_object = smtplib.SMTP('smtp.gmail.com',587)"
   ]
  },
  {
   "cell_type": "code",
   "execution_count": 49,
   "id": "a36f20a8-2593-4342-997e-f11cb76ce1ea",
   "metadata": {},
   "outputs": [
    {
     "data": {
      "text/plain": [
       "(250,\n",
       " b'smtp.gmail.com at your service, [71.59.85.84]\\nSIZE 35882577\\n8BITMIME\\nSTARTTLS\\nENHANCEDSTATUSCODES\\nPIPELINING\\nCHUNKING\\nSMTPUTF8')"
      ]
     },
     "execution_count": 49,
     "metadata": {},
     "output_type": "execute_result"
    }
   ],
   "source": [
    "smtp_object.ehlo()"
   ]
  },
  {
   "cell_type": "code",
   "execution_count": 51,
   "id": "dcc637fb-98ce-4be2-b939-cc8aa29380d6",
   "metadata": {},
   "outputs": [
    {
     "data": {
      "text/plain": [
       "(220, b'2.0.0 Ready to start TLS')"
      ]
     },
     "execution_count": 51,
     "metadata": {},
     "output_type": "execute_result"
    }
   ],
   "source": [
    "smtp_object.starttls()"
   ]
  },
  {
   "cell_type": "markdown",
   "id": "316c4c04-0bb1-44fe-92e9-8fa6849882b0",
   "metadata": {},
   "source": [
    "### Enter You Email and Generated App Password"
   ]
  },
  {
   "cell_type": "code",
   "execution_count": 54,
   "id": "ab671de3-4ab3-4ad6-a6d0-d2b85c7f6c60",
   "metadata": {},
   "outputs": [
    {
     "data": {
      "text/plain": [
       "(235, b'2.7.0 Accepted')"
      ]
     },
     "execution_count": 54,
     "metadata": {},
     "output_type": "execute_result"
    }
   ],
   "source": [
    "email = os.getenv(\"GOOGLE_EMAIL\")\n",
    "password = os.getenv(\"GOOGLE_APP_PASSWORD\")\n",
    "smtp_object.login(email,password)"
   ]
  },
  {
   "cell_type": "code",
   "execution_count": 60,
   "id": "ff003f25-f399-40ee-83d5-6d31e7393be6",
   "metadata": {},
   "outputs": [
    {
     "name": "stdout",
     "output_type": "stream",
     "text": [
      "Email sent successfully!\n"
     ]
    }
   ],
   "source": [
    "from_address = email\n",
    "to_address = os.getenv(\"EMAIL_TO\")\n",
    "subject = \"libadd\"\n",
    "message = f\"Subject: {subject}\\n\\n{email_json}\"\n",
    "\n",
    "\n",
    "result = smtp_object.sendmail(from_address, to_address, message)\n",
    "\n",
    "if result == {}:\n",
    "    print(\"Email sent successfully!\")\n",
    "else:\n",
    "    print(\"Failed to send email to the following recipient(s):\")\n",
    "    print(result)"
   ]
  },
  {
   "cell_type": "markdown",
   "id": "aedddf91-dcd0-4c0e-80a7-e22a3e83b68c",
   "metadata": {},
   "source": [
    "## Working with the Other Classes"
   ]
  },
  {
   "cell_type": "code",
   "execution_count": 57,
   "id": "f8b32aaa-3170-42f0-a03f-52172adfc6f0",
   "metadata": {},
   "outputs": [
    {
     "name": "stdout",
     "output_type": "stream",
     "text": [
      "Added Clean Code to my library\n",
      "Added Surf Today to my library\n",
      "Added The Times to my library\n"
     ]
    }
   ],
   "source": [
    "lib = Library()\n",
    "lib.add_book(Book(\"Clean Code\", \"Robert C. Martin\"))\n",
    "lib.add_book(Magazine(\"Surf Today\", \"Kelly Slater\", available=False))\n",
    "lib.add_book(Newspaper(\"The Times\", \"Editorial Board\"))"
   ]
  },
  {
   "cell_type": "code",
   "execution_count": 59,
   "id": "53de8736-188f-4437-8fc1-9a77df6a2e75",
   "metadata": {},
   "outputs": [
    {
     "name": "stdout",
     "output_type": "stream",
     "text": [
      "📚 Library:\n",
      "[Book] Title: Clean Code\n",
      "Author: Robert C. Martin\n",
      "Available: Yes\n",
      "[Magazine] Title: Surf Today\n",
      "Author: Kelly Slater\n",
      "Available: No\n",
      "[Newspaper] Title: The Times\n",
      "Author: Editorial Board\n",
      "Available: Yes\n"
     ]
    }
   ],
   "source": [
    "print(lib.list_all())"
   ]
  },
  {
   "cell_type": "code",
   "execution_count": 61,
   "id": "40809d94-b311-420e-a4b4-544266d4ed54",
   "metadata": {},
   "outputs": [
    {
     "name": "stdout",
     "output_type": "stream",
     "text": [
      "Removed Surf Today from my library\n",
      "📚 Library:\n",
      "[Book] Title: Clean Code\n",
      "Author: Robert C. Martin\n",
      "Available: Yes\n",
      "[Newspaper] Title: The Times\n",
      "Author: Editorial Board\n",
      "Available: Yes\n"
     ]
    }
   ],
   "source": [
    "lib.remove_book(\"Surf Today\")\n",
    "print(lib.list_all())"
   ]
  },
  {
   "cell_type": "code",
   "execution_count": 63,
   "id": "f4df6275-83b3-463c-af12-88a660abd339",
   "metadata": {},
   "outputs": [
    {
     "name": "stdout",
     "output_type": "stream",
     "text": [
      "2/2 periodicals available\n"
     ]
    }
   ],
   "source": [
    "available = sum(1 for item in lib.books if item.available)\n",
    "total = len(lib.books)\n",
    "print(f\"{available}/{total} periodicals available\")"
   ]
  },
  {
   "cell_type": "code",
   "execution_count": null,
   "id": "003d3942-f764-4360-931b-af6f696b1ff3",
   "metadata": {},
   "outputs": [],
   "source": []
  }
 ],
 "metadata": {
  "kernelspec": {
   "display_name": "Python [conda env:base] *",
   "language": "python",
   "name": "conda-base-py"
  },
  "language_info": {
   "codemirror_mode": {
    "name": "ipython",
    "version": 3
   },
   "file_extension": ".py",
   "mimetype": "text/x-python",
   "name": "python",
   "nbconvert_exporter": "python",
   "pygments_lexer": "ipython3",
   "version": "3.12.7"
  }
 },
 "nbformat": 4,
 "nbformat_minor": 5
}
